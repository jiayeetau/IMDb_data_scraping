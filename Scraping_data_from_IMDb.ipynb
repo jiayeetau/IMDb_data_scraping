{
 "cells": [
  {
   "cell_type": "code",
   "execution_count": 1,
   "id": "299a74f2",
   "metadata": {},
   "outputs": [],
   "source": [
    "from bs4 import BeautifulSoup\n",
    "import requests"
   ]
  },
  {
   "cell_type": "code",
   "execution_count": 2,
   "id": "068f7a04",
   "metadata": {},
   "outputs": [],
   "source": [
    "titles = ['Genre', 'Restriction', 'Duration', 'Rate', 'Metascore', 'Votes', 'Gross']"
   ]
  },
  {
   "cell_type": "code",
   "execution_count": 3,
   "id": "e59ff4d1",
   "metadata": {},
   "outputs": [],
   "source": [
    "import pandas as pd"
   ]
  },
  {
   "cell_type": "code",
   "execution_count": 4,
   "id": "448eb06e",
   "metadata": {},
   "outputs": [
    {
     "data": {
      "text/html": [
       "<div>\n",
       "<style scoped>\n",
       "    .dataframe tbody tr th:only-of-type {\n",
       "        vertical-align: middle;\n",
       "    }\n",
       "\n",
       "    .dataframe tbody tr th {\n",
       "        vertical-align: top;\n",
       "    }\n",
       "\n",
       "    .dataframe thead th {\n",
       "        text-align: right;\n",
       "    }\n",
       "</style>\n",
       "<table border=\"1\" class=\"dataframe\">\n",
       "  <thead>\n",
       "    <tr style=\"text-align: right;\">\n",
       "      <th></th>\n",
       "      <th>Genre</th>\n",
       "      <th>Restriction</th>\n",
       "      <th>Duration</th>\n",
       "      <th>Rate</th>\n",
       "      <th>Metascore</th>\n",
       "      <th>Votes</th>\n",
       "      <th>Gross</th>\n",
       "    </tr>\n",
       "  </thead>\n",
       "  <tbody>\n",
       "  </tbody>\n",
       "</table>\n",
       "</div>"
      ],
      "text/plain": [
       "Empty DataFrame\n",
       "Columns: [Genre, Restriction, Duration, Rate, Metascore, Votes, Gross]\n",
       "Index: []"
      ]
     },
     "execution_count": 4,
     "metadata": {},
     "output_type": "execute_result"
    }
   ],
   "source": [
    "data_frame = pd.DataFrame(columns = titles)\n",
    "data_frame"
   ]
  },
  {
   "cell_type": "code",
   "execution_count": null,
   "id": "19b1657a",
   "metadata": {},
   "outputs": [],
   "source": []
  },
  {
   "cell_type": "code",
   "execution_count": 5,
   "id": "01b307fa",
   "metadata": {},
   "outputs": [],
   "source": [
    "url = 'https://www.imdb.com/list/ls050782187/?sort=list_order,asc&st_dt=&mode=detail&page='"
   ]
  },
  {
   "cell_type": "code",
   "execution_count": 6,
   "id": "ed875635",
   "metadata": {},
   "outputs": [],
   "source": [
    "pages = []"
   ]
  },
  {
   "cell_type": "code",
   "execution_count": 7,
   "id": "e8e86d0d",
   "metadata": {
    "scrolled": true
   },
   "outputs": [
    {
     "name": "stdout",
     "output_type": "stream",
     "text": [
      "[<Response [200]>, <Response [200]>, <Response [200]>, <Response [200]>, <Response [200]>]\n"
     ]
    }
   ],
   "source": [
    "for num in range(1, 6):\n",
    "    urls = url + str(num)\n",
    "    page = requests.get(urls)\n",
    "    pages.append(page)\n",
    "print(pages)"
   ]
  },
  {
   "cell_type": "code",
   "execution_count": null,
   "id": "01425b90",
   "metadata": {},
   "outputs": [],
   "source": []
  },
  {
   "cell_type": "code",
   "execution_count": 18,
   "id": "3f0c2ec5",
   "metadata": {},
   "outputs": [],
   "source": [
    "word_genre = []\n",
    "word_restriction = []\n",
    "word_duration = []\n",
    "word_rate = []\n",
    "word_metascore = []\n",
    "word_votes = []\n",
    "word_gross = []"
   ]
  },
  {
   "cell_type": "code",
   "execution_count": 19,
   "id": "f8b46c90",
   "metadata": {},
   "outputs": [],
   "source": [
    "for p in pages:\n",
    "    \n",
    "    soup = BeautifulSoup(p.text, 'html')\n",
    "    \n",
    "    genre = soup.find_all('div', class_='lister-item-content')\n",
    "    for g in genre:\n",
    "        x = g.find('span', class_='genre')\n",
    "        if x:\n",
    "            word_genre.append(x.text.strip())\n",
    "        else:\n",
    "            word_genre.append(\"None\")\n",
    "    \n",
    "    restriction = soup.find_all('div', class_='lister-item-content')\n",
    "    for r in restriction:\n",
    "        x = r.find('span', class_='certificate')\n",
    "        if x:\n",
    "            word_restriction.append(x.text.strip())\n",
    "        else:\n",
    "            word_restriction.append(\"None\")\n",
    "\n",
    "    duration = soup.find_all('div', class_='lister-item-content')\n",
    "    for d in duration:\n",
    "        x = d.find('span', class_='runtime')\n",
    "        if x:\n",
    "            word_duration.append(x.text.strip())\n",
    "        else:\n",
    "            word_duration.append(\"None\")\n",
    "    \n",
    "    rate = soup.find_all('div', class_='lister-item-content')\n",
    "    for r in rate:\n",
    "        x = r.find('div', class_='ipl-rating-star small')\n",
    "        if x:\n",
    "            word_rate.append(x.text.strip())\n",
    "        else:\n",
    "            word_rate.append(\"None\")\n",
    "\n",
    "    metascore = soup.find_all('div', class_='lister-item-content')\n",
    "    for m in metascore:\n",
    "        x = m.find('span', class_='metascore favorable')\n",
    "        if x:\n",
    "            word_metascore.append(x.text.strip())\n",
    "        else:\n",
    "            word_metascore.append(\"None\")\n",
    "\n",
    "    votes_and_gross = soup.find_all('div', class_='lister-item-content')\n",
    "    for v in votes_and_gross:\n",
    "        x = v.find_all('span', attrs={'name':'nv'})\n",
    "        if x:\n",
    "            if len(x) == 2:\n",
    "                for num in x:\n",
    "                    value = num.get('data-value')\n",
    "                    if ',' in value:\n",
    "                        word_gross.append(value)\n",
    "                    else:\n",
    "                        word_votes.append(value)\n",
    "            elif len(x) == 1:\n",
    "                value = x[0].get('data-value')\n",
    "                if ',' in value:\n",
    "                    word_gross.append(value)\n",
    "                    word_votes.append(\"None\")\n",
    "                else:\n",
    "                    word_gross.append(\"None\")\n",
    "                    word_votes.append(value)\n",
    "        else:\n",
    "            word_gross.append(\"None\")\n",
    "            word_votes.append(\"None\")"
   ]
  },
  {
   "cell_type": "code",
   "execution_count": 27,
   "id": "2533cd7d",
   "metadata": {},
   "outputs": [],
   "source": [
    "for i in range(len(word_gross)):\n",
    "    if word_gross[i] != \"None\":\n",
    "        word_gross[i] = word_gross[i].replace(',', '')"
   ]
  },
  {
   "cell_type": "code",
   "execution_count": 28,
   "id": "0308c175",
   "metadata": {},
   "outputs": [],
   "source": [
    "row_data = {\n",
    "    'Genre': word_genre,\n",
    "    'Restriction': word_restriction,\n",
    "    'Duration': word_duration,\n",
    "    'Rate': word_rate,\n",
    "    'Metascore': word_metascore,\n",
    "    'Votes': word_votes,\n",
    "    'Gross': word_gross\n",
    "}"
   ]
  },
  {
   "cell_type": "code",
   "execution_count": null,
   "id": "5212a05e",
   "metadata": {},
   "outputs": [],
   "source": []
  },
  {
   "cell_type": "code",
   "execution_count": 29,
   "id": "fd54eb2f",
   "metadata": {},
   "outputs": [],
   "source": [
    "data_frame = pd.DataFrame(row_data)"
   ]
  },
  {
   "cell_type": "code",
   "execution_count": 30,
   "id": "5dd0d473",
   "metadata": {},
   "outputs": [],
   "source": [
    "data_frame.to_csv(r'C:\\A JY\\Data Analysis Learning\\Python\\IMDb_top_500_movies.csv', index = False)"
   ]
  },
  {
   "cell_type": "code",
   "execution_count": null,
   "id": "b2f68db5",
   "metadata": {},
   "outputs": [],
   "source": []
  }
 ],
 "metadata": {
  "kernelspec": {
   "display_name": "Python 3 (ipykernel)",
   "language": "python",
   "name": "python3"
  },
  "language_info": {
   "codemirror_mode": {
    "name": "ipython",
    "version": 3
   },
   "file_extension": ".py",
   "mimetype": "text/x-python",
   "name": "python",
   "nbconvert_exporter": "python",
   "pygments_lexer": "ipython3",
   "version": "3.11.5"
  }
 },
 "nbformat": 4,
 "nbformat_minor": 5
}
